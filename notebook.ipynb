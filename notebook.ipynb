{
 "cells": [
  {
   "cell_type": "code",
   "execution_count": 52,
   "metadata": {},
   "outputs": [],
   "source": [
    "import os\n",
    "from tensorflow.keras import models, layers, activations, optimizers, utils, losses, initializers, metrics, callbacks\n",
    "import numpy as np \n",
    "import cv2 as cv \n",
    "import matplotlib as plt "
   ]
  },
  {
   "cell_type": "code",
   "execution_count": 53,
   "metadata": {},
   "outputs": [],
   "source": [
    "epochs = 100\n",
    "batch_size = 32\n",
    "patience = 25\n",
    "learning_rate = 0.001\n",
    "model_path = 'checkpoints/model.keras'"
   ]
  },
  {
   "cell_type": "code",
   "execution_count": 3,
   "metadata": {},
   "outputs": [],
   "source": [
    "# Transformada de Fourier\n",
    "def fft(img):\n",
    "    img = np.fft.fft2(img)\n",
    "    img = np.fft.fftshift(img)\n",
    "    return img\n",
    "\n",
    "# Inversa (retorna para imagem original)\n",
    "def ifft(fimg):\n",
    "    fimg = np.fft.ifftshift(fimg)\n",
    "    fimg = np.fft.ifft2(fimg)\n",
    "    return fimg\n",
    "\n",
    "# Obtém a magnitude da imagem\n",
    "def mag(img):\n",
    "    absvalue = np.abs(img)\n",
    "    magnitude = 20 * np.log(absvalue)\n",
    "    return magnitude\n",
    "\n",
    "# Normaliza a imagem entre 0 e 255\n",
    "def norm(img):\n",
    "    img = cv.normalize(\n",
    "    img, None, 0, 255,\n",
    "    cv.NORM_MINMAX\n",
    "    )\n",
    "\n",
    "# Melhor para ver imagens da transformada e imagens pequenas em geral.\n",
    "def show(img):\n",
    "    plt.imshow(img, cmap='gray')\n",
    "    plt.show()\n",
    "    return img\n"
   ]
  },
  {
   "cell_type": "code",
   "execution_count": 54,
   "metadata": {},
   "outputs": [
    {
     "name": "stdout",
     "output_type": "stream",
     "text": [
      "Model: \"sequential_3\"\n",
      "_________________________________________________________________\n",
      " Layer (type)                Output Shape              Param #   \n",
      "=================================================================\n",
      " conv2d_6 (Conv2D)           (None, 126, 126, 32)      896       \n",
      "                                                                 \n",
      " max_pooling2d_6 (MaxPoolin  (None, 63, 63, 32)        0         \n",
      " g2D)                                                            \n",
      "                                                                 \n",
      " conv2d_7 (Conv2D)           (None, 61, 61, 32)        9248      \n",
      "                                                                 \n",
      " max_pooling2d_7 (MaxPoolin  (None, 30, 30, 32)        0         \n",
      " g2D)                                                            \n",
      "                                                                 \n",
      " batch_normalization_3 (Bat  (None, 30, 30, 32)        128       \n",
      " chNormalization)                                                \n",
      "                                                                 \n",
      " flatten_3 (Flatten)         (None, 28800)             0         \n",
      "                                                                 \n",
      " dropout_6 (Dropout)         (None, 28800)             0         \n",
      "                                                                 \n",
      " dense_9 (Dense)             (None, 62)                1785662   \n",
      "                                                                 \n",
      " dropout_7 (Dropout)         (None, 62)                0         \n",
      "                                                                 \n",
      " dense_10 (Dense)            (None, 124)               7812      \n",
      "                                                                 \n",
      " dense_11 (Dense)            (None, 62)                7750      \n",
      "                                                                 \n",
      "=================================================================\n",
      "Total params: 1811496 (6.91 MB)\n",
      "Trainable params: 1811432 (6.91 MB)\n",
      "Non-trainable params: 64 (256.00 Byte)\n",
      "_________________________________________________________________\n"
     ]
    }
   ],
   "source": [
    "exists = os.path.exists(model_path)\n",
    "\n",
    "model = models.load_model(model_path) \\\n",
    "    if exists \\\n",
    "        else models.Sequential([\n",
    "            layers.Conv2D(62, (3, 3),\n",
    "                activation = 'relu',\n",
    "                kernel_initializer = initializers.RandomNormal()\n",
    "            ),\n",
    "            layers.MaxPooling2D((2, 2)),\n",
    "            layers.Conv2D(124, (3, 3),\n",
    "                activation = 'relu',\n",
    "                kernel_initializer = initializers.RandomNormal()\n",
    "            ),\n",
    "            layers.MaxPooling2D((2, 2)),\n",
    "            layers.BatchNormalization(),\n",
    "            layers.Flatten(),\n",
    "            layers.Dropout(0.5),\n",
    "            layers.Dense(248,\n",
    "                activation = 'relu',\n",
    "                kernel_initializer = initializers.RandomNormal()\n",
    "            ),\n",
    "            layers.Dropout(0.5),\n",
    "            layers.Dense(124,\n",
    "                activation = 'relu',\n",
    "                kernel_initializer = initializers.RandomNormal()\n",
    "            ),\n",
    "            layers.Dense(62,\n",
    "                activation = 'sigmoid',\n",
    "                kernel_initializer = initializers.RandomNormal()\n",
    "            )\n",
    "        ])\n",
    "\n",
    "if exists:\n",
    "    model.summary()\n",
    "else:\n",
    "    model.compile(\n",
    "        optimizer = optimizers.Adam(\n",
    "        learning_rate = learning_rate\n",
    "        ),\n",
    "        loss = losses.SparseCategoricalCrossentropy(),\n",
    "        metrics = [ 'accuracy' ]\n",
    "    )"
   ]
  },
  {
   "cell_type": "code",
   "execution_count": 55,
   "metadata": {},
   "outputs": [
    {
     "name": "stdout",
     "output_type": "stream",
     "text": [
      "Found 6820 files belonging to 62 classes.\n",
      "Using 5456 files for training.\n",
      "Found 6820 files belonging to 62 classes.\n",
      "Using 1364 files for validation.\n"
     ]
    }
   ],
   "source": [
    "train = utils.image_dataset_from_directory(\n",
    "    \"Img\",\n",
    "    validation_split= 0.2,\n",
    "    subset= \"training\",\n",
    "    seed= 123,\n",
    "    shuffle= True,\n",
    "    image_size= (128, 128),\n",
    "    batch_size= batch_size\n",
    ")\n",
    "\n",
    "test = utils.image_dataset_from_directory(\n",
    "    \"Img\", \n",
    "    validation_split= 0.2,\n",
    "    subset= \"validation\",\n",
    "    seed= 123,\n",
    "    shuffle= True,\n",
    "    image_size= (128, 128),\n",
    "    batch_size= batch_size\n",
    ")\n"
   ]
  },
  {
   "cell_type": "code",
   "execution_count": 57,
   "metadata": {},
   "outputs": [
    {
     "name": "stdout",
     "output_type": "stream",
     "text": [
      "Epoch 1/100\n"
     ]
    },
    {
     "name": "stdout",
     "output_type": "stream",
     "text": [
      "171/171 [==============================] - 13s 78ms/step - loss: 0.3905 - accuracy: 0.8739 - val_loss: 0.7321 - val_accuracy: 0.7999\n",
      "Epoch 2/100\n",
      "171/171 [==============================] - 13s 78ms/step - loss: 0.3729 - accuracy: 0.8796 - val_loss: 0.7139 - val_accuracy: 0.8028\n",
      "Epoch 3/100\n",
      "171/171 [==============================] - 14s 79ms/step - loss: 0.3748 - accuracy: 0.8748 - val_loss: 0.7301 - val_accuracy: 0.8123\n",
      "Epoch 4/100\n",
      "171/171 [==============================] - 13s 78ms/step - loss: 0.3867 - accuracy: 0.8717 - val_loss: 0.7415 - val_accuracy: 0.7999\n",
      "Epoch 5/100\n",
      "171/171 [==============================] - 14s 80ms/step - loss: 0.3827 - accuracy: 0.8783 - val_loss: 0.7172 - val_accuracy: 0.8101\n",
      "Epoch 6/100\n",
      "171/171 [==============================] - 14s 81ms/step - loss: 0.3827 - accuracy: 0.8785 - val_loss: 0.7795 - val_accuracy: 0.7911\n",
      "Epoch 7/100\n",
      "171/171 [==============================] - 14s 79ms/step - loss: 0.3683 - accuracy: 0.8825 - val_loss: 0.7741 - val_accuracy: 0.8035\n",
      "Epoch 8/100\n",
      "171/171 [==============================] - 14s 81ms/step - loss: 0.3462 - accuracy: 0.8906 - val_loss: 0.7627 - val_accuracy: 0.8079\n",
      "Epoch 9/100\n",
      "171/171 [==============================] - 14s 81ms/step - loss: 0.3731 - accuracy: 0.8761 - val_loss: 0.7928 - val_accuracy: 0.7955\n",
      "Epoch 10/100\n",
      "171/171 [==============================] - 13s 78ms/step - loss: 0.3636 - accuracy: 0.8834 - val_loss: 0.7820 - val_accuracy: 0.8130\n",
      "Epoch 11/100\n",
      "171/171 [==============================] - 14s 80ms/step - loss: 0.3959 - accuracy: 0.8717 - val_loss: 0.7643 - val_accuracy: 0.7991\n",
      "Epoch 12/100\n",
      "171/171 [==============================] - 14s 80ms/step - loss: 0.3672 - accuracy: 0.8810 - val_loss: 0.8460 - val_accuracy: 0.7918\n",
      "Epoch 13/100\n",
      "171/171 [==============================] - 14s 80ms/step - loss: 0.3837 - accuracy: 0.8770 - val_loss: 0.7734 - val_accuracy: 0.7999\n",
      "Epoch 14/100\n",
      "171/171 [==============================] - 14s 81ms/step - loss: 0.3582 - accuracy: 0.8823 - val_loss: 0.7250 - val_accuracy: 0.8189\n",
      "Epoch 15/100\n",
      "171/171 [==============================] - 14s 81ms/step - loss: 0.3711 - accuracy: 0.8816 - val_loss: 0.7454 - val_accuracy: 0.7999\n",
      "Epoch 16/100\n",
      "171/171 [==============================] - 14s 79ms/step - loss: 0.3354 - accuracy: 0.8937 - val_loss: 0.7810 - val_accuracy: 0.8065\n",
      "Epoch 17/100\n",
      "171/171 [==============================] - 14s 82ms/step - loss: 0.3505 - accuracy: 0.8847 - val_loss: 0.8327 - val_accuracy: 0.7896\n",
      "Epoch 18/100\n",
      "171/171 [==============================] - 14s 82ms/step - loss: 0.3444 - accuracy: 0.8891 - val_loss: 0.7485 - val_accuracy: 0.8079\n",
      "Epoch 19/100\n",
      "171/171 [==============================] - 14s 79ms/step - loss: 0.3617 - accuracy: 0.8818 - val_loss: 0.7929 - val_accuracy: 0.7962\n",
      "Epoch 20/100\n",
      "171/171 [==============================] - 14s 80ms/step - loss: 0.3502 - accuracy: 0.8902 - val_loss: 0.8013 - val_accuracy: 0.7925\n",
      "Epoch 21/100\n",
      "171/171 [==============================] - 14s 81ms/step - loss: 0.3516 - accuracy: 0.8889 - val_loss: 0.7854 - val_accuracy: 0.7918\n",
      "Epoch 22/100\n",
      "171/171 [==============================] - 14s 80ms/step - loss: 0.3355 - accuracy: 0.8900 - val_loss: 0.7612 - val_accuracy: 0.8043\n",
      "Epoch 23/100\n",
      "171/171 [==============================] - 14s 82ms/step - loss: 0.3518 - accuracy: 0.8887 - val_loss: 0.7828 - val_accuracy: 0.8065\n",
      "Epoch 24/100\n",
      "171/171 [==============================] - 14s 81ms/step - loss: 0.3449 - accuracy: 0.8937 - val_loss: 0.8237 - val_accuracy: 0.8028\n",
      "Epoch 25/100\n",
      "171/171 [==============================] - 14s 79ms/step - loss: 0.3305 - accuracy: 0.8898 - val_loss: 0.8011 - val_accuracy: 0.7918\n",
      "Epoch 26/100\n",
      "171/171 [==============================] - 14s 81ms/step - loss: 0.3564 - accuracy: 0.8867 - val_loss: 0.8342 - val_accuracy: 0.7808\n",
      "Epoch 27/100\n",
      "171/171 [==============================] - 14s 81ms/step - loss: 0.3532 - accuracy: 0.8864 - val_loss: 0.7908 - val_accuracy: 0.7969\n",
      "Epoch 27: early stopping\n"
     ]
    },
    {
     "data": {
      "text/plain": [
       "<keras.src.callbacks.History at 0x1ce6ae3bc50>"
      ]
     },
     "execution_count": 57,
     "metadata": {},
     "output_type": "execute_result"
    }
   ],
   "source": [
    "model.fit(train,\n",
    "    epochs = epochs,\n",
    "    validation_data = test,\n",
    "    callbacks= [\n",
    "        callbacks.EarlyStopping(\n",
    "            monitor = 'val_loss',\n",
    "            patience = patience,\n",
    "            verbose = 1\n",
    "        ),\n",
    "        callbacks.ModelCheckpoint(\n",
    "            filepath = model_path,\n",
    "            save_weights_only = False,\n",
    "            monitor = 'loss',\n",
    "            mode = 'min',\n",
    "            save_best_only = True\n",
    "        )\n",
    "    ]\n",
    ")"
   ]
  }
 ],
 "metadata": {
  "kernelspec": {
   "display_name": "Python 3",
   "language": "python",
   "name": "python3"
  },
  "language_info": {
   "codemirror_mode": {
    "name": "ipython",
    "version": 3
   },
   "file_extension": ".py",
   "mimetype": "text/x-python",
   "name": "python",
   "nbconvert_exporter": "python",
   "pygments_lexer": "ipython3",
   "version": "3.11.4"
  }
 },
 "nbformat": 4,
 "nbformat_minor": 2
}

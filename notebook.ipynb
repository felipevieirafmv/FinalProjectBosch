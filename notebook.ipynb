{
 "cells": [
  {
   "cell_type": "code",
   "execution_count": 2,
   "metadata": {},
   "outputs": [],
   "source": [
    "import os\n",
    "from tensorflow.keras import models, layers, activations, optimizers, utils, losses, initializers, metrics, callbacks\n",
    "import numpy as np \n",
    "import cv2 as cv \n",
    "import matplotlib as plt "
   ]
  },
  {
   "cell_type": "code",
   "execution_count": 3,
   "metadata": {},
   "outputs": [],
   "source": [
    "epochs = 100\n",
    "batch_size = 64\n",
    "patience = 10\n",
    "learning_rate = 0.001\n",
    "model_path = 'checkpoints/model.keras'"
   ]
  },
  {
   "cell_type": "code",
   "execution_count": 5,
   "metadata": {},
   "outputs": [],
   "source": [
    "# Transformada de Fourier\n",
    "def fft(img):\n",
    "    img = np.fft.fft2(img)\n",
    "    img = np.fft.fftshift(img)\n",
    "    return img\n",
    "\n",
    "# Inversa (retorna para imagem original)\n",
    "def ifft(fimg):\n",
    "    fimg = np.fft.ifftshift(fimg)\n",
    "    fimg = np.fft.ifft2(fimg)\n",
    "    return fimg\n",
    "\n",
    "# Obtém a magnitude da imagem\n",
    "def mag(img):\n",
    "    absvalue = np.abs(img)\n",
    "    magnitude = 20 * np.log(absvalue)\n",
    "    return magnitude\n",
    "\n",
    "# Normaliza a imagem entre 0 e 255\n",
    "def norm(img):\n",
    "    img = cv.normalize(\n",
    "    img, None, 0, 255,\n",
    "    cv.NORM_MINMAX\n",
    "    )\n",
    "\n",
    "# Melhor para ver imagens da transformada e imagens pequenas em geral.\n",
    "def show(img):\n",
    "    plt.imshow(img, cmap='gray')\n",
    "    plt.show()\n",
    "    return img\n"
   ]
  },
  {
   "cell_type": "code",
   "execution_count": 6,
   "metadata": {},
   "outputs": [
    {
     "ename": "AttributeError",
     "evalue": "module 'keras.src.backend' has no attribute 'floatx'",
     "output_type": "error",
     "traceback": [
      "\u001b[1;31m---------------------------------------------------------------------------\u001b[0m",
      "\u001b[1;31mAttributeError\u001b[0m                            Traceback (most recent call last)",
      "Cell \u001b[1;32mIn[6], line 6\u001b[0m\n\u001b[0;32m      1\u001b[0m exists \u001b[38;5;241m=\u001b[39m os\u001b[38;5;241m.\u001b[39mpath\u001b[38;5;241m.\u001b[39mexists(model_path)\n\u001b[0;32m      3\u001b[0m model \u001b[38;5;241m=\u001b[39m models\u001b[38;5;241m.\u001b[39mload_model(model_path) \\\n\u001b[0;32m      4\u001b[0m     \u001b[38;5;28;01mif\u001b[39;00m exists \\\n\u001b[0;32m      5\u001b[0m         \u001b[38;5;28;01melse\u001b[39;00m models\u001b[38;5;241m.\u001b[39mSequential([\n\u001b[1;32m----> 6\u001b[0m             \u001b[43mlayers\u001b[49m\u001b[38;5;241;43m.\u001b[39;49m\u001b[43mResizing\u001b[49m\u001b[43m(\u001b[49m\u001b[38;5;241;43m128\u001b[39;49m\u001b[43m,\u001b[49m\u001b[43m \u001b[49m\u001b[38;5;241;43m128\u001b[39;49m\u001b[43m)\u001b[49m,\n\u001b[0;32m      7\u001b[0m             layers\u001b[38;5;241m.\u001b[39mRescaling(scale\u001b[38;5;241m=\u001b[39m\u001b[38;5;241m1.\u001b[39m\u001b[38;5;241m/\u001b[39m\u001b[38;5;241m127.5\u001b[39m, offset\u001b[38;5;241m=\u001b[39m\u001b[38;5;241m-\u001b[39m\u001b[38;5;241m1\u001b[39m),\n\u001b[0;32m      8\u001b[0m             layers\u001b[38;5;241m.\u001b[39mConv2D(\u001b[38;5;241m32\u001b[39m, (\u001b[38;5;241m3\u001b[39m, \u001b[38;5;241m3\u001b[39m),\n\u001b[0;32m      9\u001b[0m                 activation \u001b[38;5;241m=\u001b[39m \u001b[38;5;124m'\u001b[39m\u001b[38;5;124mrelu\u001b[39m\u001b[38;5;124m'\u001b[39m,\n\u001b[0;32m     10\u001b[0m                 kernel_initializer \u001b[38;5;241m=\u001b[39m initializers\u001b[38;5;241m.\u001b[39mRandomNormal()\n\u001b[0;32m     11\u001b[0m             ),\n\u001b[0;32m     12\u001b[0m             layers\u001b[38;5;241m.\u001b[39mMaxPooling2D((\u001b[38;5;241m2\u001b[39m, \u001b[38;5;241m2\u001b[39m)),\n\u001b[0;32m     13\u001b[0m             layers\u001b[38;5;241m.\u001b[39mConv2D(\u001b[38;5;241m32\u001b[39m, (\u001b[38;5;241m3\u001b[39m, \u001b[38;5;241m3\u001b[39m),\n\u001b[0;32m     14\u001b[0m                 activation \u001b[38;5;241m=\u001b[39m \u001b[38;5;124m'\u001b[39m\u001b[38;5;124mrelu\u001b[39m\u001b[38;5;124m'\u001b[39m,\n\u001b[0;32m     15\u001b[0m                 kernel_initializer \u001b[38;5;241m=\u001b[39m initializers\u001b[38;5;241m.\u001b[39mRandomNormal()\n\u001b[0;32m     16\u001b[0m             ),\n\u001b[0;32m     17\u001b[0m             layers\u001b[38;5;241m.\u001b[39mMaxPooling2D((\u001b[38;5;241m2\u001b[39m, \u001b[38;5;241m2\u001b[39m)),\n\u001b[0;32m     18\u001b[0m             layers\u001b[38;5;241m.\u001b[39mBatchNormalization(),\n\u001b[0;32m     19\u001b[0m             layers\u001b[38;5;241m.\u001b[39mFlatten(),\n\u001b[0;32m     20\u001b[0m             layers\u001b[38;5;241m.\u001b[39mDropout(\u001b[38;5;241m0.5\u001b[39m),\n\u001b[0;32m     21\u001b[0m             layers\u001b[38;5;241m.\u001b[39mDense(\u001b[38;5;241m62\u001b[39m,\n\u001b[0;32m     22\u001b[0m                 activation \u001b[38;5;241m=\u001b[39m \u001b[38;5;124m'\u001b[39m\u001b[38;5;124mrelu\u001b[39m\u001b[38;5;124m'\u001b[39m,\n\u001b[0;32m     23\u001b[0m                 kernel_initializer \u001b[38;5;241m=\u001b[39m initializers\u001b[38;5;241m.\u001b[39mRandomNormal()\n\u001b[0;32m     24\u001b[0m             ),\n\u001b[0;32m     25\u001b[0m             layers\u001b[38;5;241m.\u001b[39mDropout(\u001b[38;5;241m0.5\u001b[39m),\n\u001b[0;32m     26\u001b[0m             layers\u001b[38;5;241m.\u001b[39mDense(\u001b[38;5;241m124\u001b[39m,\n\u001b[0;32m     27\u001b[0m                 activation \u001b[38;5;241m=\u001b[39m \u001b[38;5;124m'\u001b[39m\u001b[38;5;124mrelu\u001b[39m\u001b[38;5;124m'\u001b[39m,\n\u001b[0;32m     28\u001b[0m                 kernel_initializer \u001b[38;5;241m=\u001b[39m initializers\u001b[38;5;241m.\u001b[39mRandomNormal()\n\u001b[0;32m     29\u001b[0m             ),\n\u001b[0;32m     30\u001b[0m             layers\u001b[38;5;241m.\u001b[39mDense(\u001b[38;5;241m62\u001b[39m,\n\u001b[0;32m     31\u001b[0m                 activation \u001b[38;5;241m=\u001b[39m \u001b[38;5;124m'\u001b[39m\u001b[38;5;124msigmoid\u001b[39m\u001b[38;5;124m'\u001b[39m,\n\u001b[0;32m     32\u001b[0m                 kernel_initializer \u001b[38;5;241m=\u001b[39m initializers\u001b[38;5;241m.\u001b[39mRandomNormal()\n\u001b[0;32m     33\u001b[0m             )\n\u001b[0;32m     34\u001b[0m         ])\n\u001b[0;32m     36\u001b[0m \u001b[38;5;28;01mif\u001b[39;00m exists:\n\u001b[0;32m     37\u001b[0m     model\u001b[38;5;241m.\u001b[39msummary()\n",
      "File \u001b[1;32m~\\AppData\\Roaming\\Python\\Python311\\site-packages\\keras\\src\\layers\\preprocessing\\image_preprocessing.py:95\u001b[0m, in \u001b[0;36mResizing.__init__\u001b[1;34m(self, height, width, interpolation, crop_to_aspect_ratio, **kwargs)\u001b[0m\n\u001b[0;32m     91\u001b[0m \u001b[38;5;28mself\u001b[39m\u001b[38;5;241m.\u001b[39mcrop_to_aspect_ratio \u001b[38;5;241m=\u001b[39m crop_to_aspect_ratio\n\u001b[0;32m     92\u001b[0m \u001b[38;5;28mself\u001b[39m\u001b[38;5;241m.\u001b[39m_interpolation_method \u001b[38;5;241m=\u001b[39m image_utils\u001b[38;5;241m.\u001b[39mget_interpolation(\n\u001b[0;32m     93\u001b[0m     interpolation\n\u001b[0;32m     94\u001b[0m )\n\u001b[1;32m---> 95\u001b[0m \u001b[38;5;28;43msuper\u001b[39;49m\u001b[43m(\u001b[49m\u001b[43m)\u001b[49m\u001b[38;5;241;43m.\u001b[39;49m\u001b[38;5;21;43m__init__\u001b[39;49m\u001b[43m(\u001b[49m\u001b[38;5;241;43m*\u001b[39;49m\u001b[38;5;241;43m*\u001b[39;49m\u001b[43mkwargs\u001b[49m\u001b[43m)\u001b[49m\n\u001b[0;32m     96\u001b[0m base_preprocessing_layer\u001b[38;5;241m.\u001b[39mkeras_kpl_gauge\u001b[38;5;241m.\u001b[39mget_cell(\u001b[38;5;124m\"\u001b[39m\u001b[38;5;124mResizing\u001b[39m\u001b[38;5;124m\"\u001b[39m)\u001b[38;5;241m.\u001b[39mset(\u001b[38;5;28;01mTrue\u001b[39;00m)\n",
      "File \u001b[1;32m~\\AppData\\Roaming\\Python\\Python311\\site-packages\\tensorflow\\python\\trackable\\base.py:204\u001b[0m, in \u001b[0;36mno_automatic_dependency_tracking.<locals>._method_wrapper\u001b[1;34m(self, *args, **kwargs)\u001b[0m\n\u001b[0;32m    202\u001b[0m \u001b[38;5;28mself\u001b[39m\u001b[38;5;241m.\u001b[39m_self_setattr_tracking \u001b[38;5;241m=\u001b[39m \u001b[38;5;28;01mFalse\u001b[39;00m  \u001b[38;5;66;03m# pylint: disable=protected-access\u001b[39;00m\n\u001b[0;32m    203\u001b[0m \u001b[38;5;28;01mtry\u001b[39;00m:\n\u001b[1;32m--> 204\u001b[0m   result \u001b[38;5;241m=\u001b[39m \u001b[43mmethod\u001b[49m\u001b[43m(\u001b[49m\u001b[38;5;28;43mself\u001b[39;49m\u001b[43m,\u001b[49m\u001b[43m \u001b[49m\u001b[38;5;241;43m*\u001b[39;49m\u001b[43margs\u001b[49m\u001b[43m,\u001b[49m\u001b[43m \u001b[49m\u001b[38;5;241;43m*\u001b[39;49m\u001b[38;5;241;43m*\u001b[39;49m\u001b[43mkwargs\u001b[49m\u001b[43m)\u001b[49m\n\u001b[0;32m    205\u001b[0m \u001b[38;5;28;01mfinally\u001b[39;00m:\n\u001b[0;32m    206\u001b[0m   \u001b[38;5;28mself\u001b[39m\u001b[38;5;241m.\u001b[39m_self_setattr_tracking \u001b[38;5;241m=\u001b[39m previous_value  \u001b[38;5;66;03m# pylint: disable=protected-access\u001b[39;00m\n",
      "File \u001b[1;32m~\\AppData\\Roaming\\Python\\Python311\\site-packages\\keras\\src\\engine\\base_layer.py:407\u001b[0m, in \u001b[0;36mLayer.__init__\u001b[1;34m(self, trainable, name, dtype, dynamic, **kwargs)\u001b[0m\n\u001b[0;32m    400\u001b[0m \u001b[38;5;28mself\u001b[39m\u001b[38;5;241m.\u001b[39m_metrics_lock \u001b[38;5;241m=\u001b[39m threading\u001b[38;5;241m.\u001b[39mLock()\n\u001b[0;32m    402\u001b[0m \u001b[38;5;66;03m# Note that models also have a dtype policy, as they are layers. For\u001b[39;00m\n\u001b[0;32m    403\u001b[0m \u001b[38;5;66;03m# functional models, the policy is only used in Model.compile, which\u001b[39;00m\n\u001b[0;32m    404\u001b[0m \u001b[38;5;66;03m# wraps the optimizer with a LossScaleOptimizer if the policy name is\u001b[39;00m\n\u001b[0;32m    405\u001b[0m \u001b[38;5;66;03m# \"mixed_float16\". Subclassed models additionally use the policy's\u001b[39;00m\n\u001b[0;32m    406\u001b[0m \u001b[38;5;66;03m# compute and variable dtypes, as like any ordinary layer.\u001b[39;00m\n\u001b[1;32m--> 407\u001b[0m \u001b[38;5;28;43mself\u001b[39;49m\u001b[38;5;241;43m.\u001b[39;49m\u001b[43m_set_dtype_policy\u001b[49m\u001b[43m(\u001b[49m\u001b[43mdtype\u001b[49m\u001b[43m)\u001b[49m\n\u001b[0;32m    408\u001b[0m \u001b[38;5;66;03m# Boolean indicating whether the layer automatically casts its inputs to\u001b[39;00m\n\u001b[0;32m    409\u001b[0m \u001b[38;5;66;03m# the layer's compute_dtype.\u001b[39;00m\n\u001b[0;32m    410\u001b[0m \u001b[38;5;28mself\u001b[39m\u001b[38;5;241m.\u001b[39m_autocast \u001b[38;5;241m=\u001b[39m kwargs\u001b[38;5;241m.\u001b[39mget(\n\u001b[0;32m    411\u001b[0m     \u001b[38;5;124m\"\u001b[39m\u001b[38;5;124mautocast\u001b[39m\u001b[38;5;124m\"\u001b[39m, base_layer_utils\u001b[38;5;241m.\u001b[39mv2_dtype_behavior_enabled()\n\u001b[0;32m    412\u001b[0m )\n",
      "File \u001b[1;32m~\\AppData\\Roaming\\Python\\Python311\\site-packages\\keras\\src\\engine\\base_layer.py:2709\u001b[0m, in \u001b[0;36mLayer._set_dtype_policy\u001b[1;34m(self, dtype)\u001b[0m\n\u001b[0;32m   2707\u001b[0m \u001b[38;5;28;01mdef\u001b[39;00m \u001b[38;5;21m_set_dtype_policy\u001b[39m(\u001b[38;5;28mself\u001b[39m, dtype):\n\u001b[0;32m   2708\u001b[0m \u001b[38;5;250m    \u001b[39m\u001b[38;5;124;03m\"\"\"Sets self._dtype_policy.\"\"\"\u001b[39;00m\n\u001b[1;32m-> 2709\u001b[0m     \u001b[38;5;28mself\u001b[39m\u001b[38;5;241m.\u001b[39m_dtype_policy \u001b[38;5;241m=\u001b[39m \u001b[43mpolicy\u001b[49m\u001b[38;5;241;43m.\u001b[39;49m\u001b[43mget_policy\u001b[49m\u001b[43m(\u001b[49m\u001b[43mdtype\u001b[49m\u001b[43m)\u001b[49m\n\u001b[0;32m   2711\u001b[0m     \u001b[38;5;66;03m# Performance optimization: cache the compute dtype as a Dtype object or\u001b[39;00m\n\u001b[0;32m   2712\u001b[0m     \u001b[38;5;66;03m# None, so that str to Dtype conversion doesn't happen in\u001b[39;00m\n\u001b[0;32m   2713\u001b[0m     \u001b[38;5;66;03m# Layer.__call__.\u001b[39;00m\n\u001b[0;32m   2714\u001b[0m     \u001b[38;5;66;03m# TODO(b/157486353): Investigate returning DTypes in Policy.\u001b[39;00m\n\u001b[0;32m   2715\u001b[0m     \u001b[38;5;28;01mif\u001b[39;00m \u001b[38;5;28mself\u001b[39m\u001b[38;5;241m.\u001b[39m_dtype_policy\u001b[38;5;241m.\u001b[39mcompute_dtype:\n",
      "File \u001b[1;32m~\\AppData\\Roaming\\Python\\Python311\\site-packages\\keras\\src\\mixed_precision\\policy.py:483\u001b[0m, in \u001b[0;36mget_policy\u001b[1;34m(identifier)\u001b[0m\n\u001b[0;32m    481\u001b[0m     dtype_policy \u001b[38;5;241m=\u001b[39m Policy(tf\u001b[38;5;241m.\u001b[39mas_dtype(identifier)\u001b[38;5;241m.\u001b[39mname)\n\u001b[0;32m    482\u001b[0m \u001b[38;5;28;01melse\u001b[39;00m:\n\u001b[1;32m--> 483\u001b[0m     dtype_policy \u001b[38;5;241m=\u001b[39m \u001b[43mglobal_policy\u001b[49m\u001b[43m(\u001b[49m\u001b[43m)\u001b[49m\n\u001b[0;32m    484\u001b[0m \u001b[38;5;28;01mif\u001b[39;00m (\n\u001b[0;32m    485\u001b[0m     dtype_policy\u001b[38;5;241m.\u001b[39mname \u001b[38;5;241m==\u001b[39m \u001b[38;5;124m\"\u001b[39m\u001b[38;5;124mmixed_float16\u001b[39m\u001b[38;5;124m\"\u001b[39m\n\u001b[0;32m    486\u001b[0m     \u001b[38;5;129;01mand\u001b[39;00m \u001b[38;5;129;01mnot\u001b[39;00m loss_scale_optimizer\u001b[38;5;241m.\u001b[39mstrategy_supports_loss_scaling()\n\u001b[1;32m   (...)\u001b[0m\n\u001b[0;32m    490\u001b[0m     \u001b[38;5;66;03m# unsupported strategies. This is because 'mixed_float16' requires\u001b[39;00m\n\u001b[0;32m    491\u001b[0m     \u001b[38;5;66;03m# loss scaling for numeric stability.\u001b[39;00m\n\u001b[0;32m    492\u001b[0m     strategy \u001b[38;5;241m=\u001b[39m tf\u001b[38;5;241m.\u001b[39mdistribute\u001b[38;5;241m.\u001b[39mget_strategy()\n",
      "File \u001b[1;32m~\\AppData\\Roaming\\Python\\Python311\\site-packages\\keras\\src\\mixed_precision\\policy.py:360\u001b[0m, in \u001b[0;36mglobal_policy\u001b[1;34m()\u001b[0m\n\u001b[0;32m    358\u001b[0m \u001b[38;5;28;01mif\u001b[39;00m _global_policy \u001b[38;5;129;01mis\u001b[39;00m \u001b[38;5;28;01mNone\u001b[39;00m:\n\u001b[0;32m    359\u001b[0m     \u001b[38;5;28;01mif\u001b[39;00m base_layer_utils\u001b[38;5;241m.\u001b[39mv2_dtype_behavior_enabled():\n\u001b[1;32m--> 360\u001b[0m         \u001b[38;5;28;01mreturn\u001b[39;00m Policy(\u001b[43mbackend\u001b[49m\u001b[38;5;241;43m.\u001b[39;49m\u001b[43mfloatx\u001b[49m())\n\u001b[0;32m    361\u001b[0m     \u001b[38;5;28;01melse\u001b[39;00m:\n\u001b[0;32m    362\u001b[0m         \u001b[38;5;28;01mreturn\u001b[39;00m Policy(\u001b[38;5;124m\"\u001b[39m\u001b[38;5;124m_infer\u001b[39m\u001b[38;5;124m\"\u001b[39m)\n",
      "\u001b[1;31mAttributeError\u001b[0m: module 'keras.src.backend' has no attribute 'floatx'"
     ]
    }
   ],
   "source": [
    "exists = os.path.exists(model_path)\n",
    "\n",
    "model = models.load_model(model_path) \\\n",
    "    if exists \\\n",
    "        else models.Sequential([\n",
    "            layers.Resizing(128, 128),\n",
    "            layers.Rescaling(scale=1./127.5, offset=-1),\n",
    "            layers.Conv2D(32, (3, 3),\n",
    "                activation = 'relu',\n",
    "                kernel_initializer = initializers.RandomNormal()\n",
    "            ),\n",
    "            layers.MaxPooling2D((2, 2)),\n",
    "            layers.Conv2D(32, (3, 3),\n",
    "                activation = 'relu',\n",
    "                kernel_initializer = initializers.RandomNormal()\n",
    "            ),\n",
    "            layers.MaxPooling2D((2, 2)),\n",
    "            layers.BatchNormalization(),\n",
    "            layers.Flatten(),\n",
    "            layers.Dropout(0.5),\n",
    "            layers.Dense(62,\n",
    "                activation = 'relu',\n",
    "                kernel_initializer = initializers.RandomNormal()\n",
    "            ),\n",
    "            layers.Dropout(0.5),\n",
    "            layers.Dense(124,\n",
    "                activation = 'relu',\n",
    "                kernel_initializer = initializers.RandomNormal()\n",
    "            ),\n",
    "            layers.Dense(62,\n",
    "                activation = 'sigmoid',\n",
    "                kernel_initializer = initializers.RandomNormal()\n",
    "            )\n",
    "        ])\n",
    "\n",
    "if exists:\n",
    "    model.summary()\n",
    "else:\n",
    "    model.compile(\n",
    "        optimizer = optimizers.Adam(\n",
    "            learning_rate = learning_rate\n",
    "        ),\n",
    "        loss = losses.BinaryCrossentropy(),\n",
    "        metrics = [ metrics.BinaryAccuracy() ]\n",
    "    )"
   ]
  },
  {
   "cell_type": "code",
   "execution_count": null,
   "metadata": {},
   "outputs": [],
   "source": [
    "train = utils.image_dataset_from_directory(\n",
    "    \"img\",\n",
    "    validation_split= 0.2,\n",
    "    subset= \"training\",\n",
    "    seed= 123,\n",
    "    shuffle= True,\n",
    "    image_size= (128, 128),\n",
    "    batch_size= batch_size\n",
    ")\n",
    "\n",
    "test = utils.image_dataset_from_directory(\n",
    "    \"img\",\n",
    "    validation_split= 0.2,\n",
    "    subset= \"validation\",\n",
    "    seed= 123,\n",
    "    shuffle= True,\n",
    "    image_size= (128, 128),\n",
    "    batch_size= batch_size\n",
    ")\n"
   ]
  },
  {
   "cell_type": "code",
   "execution_count": null,
   "metadata": {},
   "outputs": [],
   "source": [
    "model.fit(train,\n",
    "    epochs = epochs,\n",
    "    validation_data = test,\n",
    "    callbacks= [\n",
    "        callbacks.EarlyStopping(\n",
    "            monitor = 'val_loss',\n",
    "            patience = patience,\n",
    "            verbose = 1\n",
    "        ),\n",
    "        callbacks.ModelCheckpoint(\n",
    "            filepath = model_path,\n",
    "            save_weights_only = False,\n",
    "            monitor = 'loss',\n",
    "            mode = 'min',\n",
    "            save_best_only = True\n",
    "        )\n",
    "    ]\n",
    ")"
   ]
  }
 ],
 "metadata": {
  "kernelspec": {
   "display_name": "Python 3",
   "language": "python",
   "name": "python3"
  },
  "language_info": {
   "codemirror_mode": {
    "name": "ipython",
    "version": 3
   },
   "file_extension": ".py",
   "mimetype": "text/x-python",
   "name": "python",
   "nbconvert_exporter": "python",
   "pygments_lexer": "ipython3",
   "version": "3.11.4"
  }
 },
 "nbformat": 4,
 "nbformat_minor": 2
}
